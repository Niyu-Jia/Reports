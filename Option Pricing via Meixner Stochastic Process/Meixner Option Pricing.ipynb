{
 "cells": [
  {
   "cell_type": "code",
   "execution_count": 1,
   "metadata": {},
   "outputs": [],
   "source": [
    "from scipy.special import gamma\n",
    "import scipy.stats as stats\n",
    "import numpy as np\n",
    "import pandas as pd\n",
    "import seaborn as sns\n",
    "from scipy.optimize import fsolve, root\n",
    "from scipy.optimize import minimize\n",
    "import scipy.integrate\n",
    "import matplotlib.pyplot as plt\n",
    "\n",
    "#read in data\n",
    "_df = pd.read_csv(\"/home/niyu/Documents/794/794Project/SPY.csv\")\n",
    "_df.index = _df.iloc[:,0]\n",
    "df = _df.iloc[:,5:6] \n",
    "\n",
    "def log_return():\n",
    "    l_r = np.log(df/df.shift(1))\n",
    "    l_r.fillna(0,inplace = True)\n",
    "    return l_r\n",
    "\n",
    "LR = log_return()"
   ]
  },
  {
   "cell_type": "code",
   "execution_count": 2,
   "metadata": {},
   "outputs": [
    {
     "name": "stdout",
     "output_type": "stream",
     "text": [
      "Mexiner Process Defined\n"
     ]
    }
   ],
   "source": [
    "class Meixner:\n",
    "    \"\"\"\n",
    "    Defining Meixner process model\n",
    "    \"\"\"\n",
    "    def __init__(self,parameters):\n",
    "        \"\"\"a > 0, −π < b < π, d > 0, and m ∈ R.\n",
    "        \"\"\"\n",
    "        self.a=parameters[0]\n",
    "        self.b=parameters[1]\n",
    "        self.d=parameters[2]\n",
    "        self.m=parameters[3]\n",
    "        # new m under EMM by mean correcting\n",
    "    \n",
    "    def pdf(self,x):\n",
    "        z = (x-self.m)/self.a\n",
    "        density = (2*np.cos(self.b/2))**(2*self.d)/(2*self.a*np.pi*gamma(2*self.d))*np.exp(self.b*z)*abs(gamma(self.d+z*1j))**2\n",
    "        return density\n",
    "    \n",
    "    def mean(self):\n",
    "        return self.m+self.a*self.d*np.tan(self.b/2)\n",
    "    \n",
    "    def var(self):\n",
    "        return self.a**2*self.d/(np.cos(self.b)+1)\n",
    "    \n",
    "    def skew(self):\n",
    "        return np.sin(self.b)*(self.d*(np.cos(self.b)+1))*-0.5\n",
    "    \n",
    "    def kurt(self):\n",
    "        return 3+(2-np.cos(self.b))/self.d\n",
    "    \n",
    "#    def m_riskneutral\n",
    "\n",
    "print('Mexiner Process Defined')"
   ]
  },
  {
   "cell_type": "code",
   "execution_count": 3,
   "metadata": {},
   "outputs": [],
   "source": [
    "def MomentEstimator():\n",
    "    \"\"\" the moment estimator method to get the parameters a,b,d,m\n",
    "    \"\"\"\n",
    "#    by this data set, the result is:[ 0.01269828  0.58355268  0.83624537 -0.00274537]\n",
    "    mean = LR.mean()\n",
    "    var = LR.var()\n",
    "    skew = LR.skew()\n",
    "    kurt = LR.kurt()\n",
    "    \n",
    "    def fun(x):\n",
    "        \"\"\" x is the parameter vector\n",
    "        \"\"\"\n",
    "        MXN = Meixner(x)\n",
    "        return np.array([float(MXN.mean()-mean), float(MXN.var()-var), float(MXN.skew()-skew), float(MXN.kurt()-kurt)])\n",
    "    \n",
    "    x0 = np.array([0.01,0,1,0])\n",
    "    result = fsolve(fun,x0)\n",
    "   \n",
    "    return result\n",
    "\n",
    "\n",
    "def OBJ(para):\n",
    "    \"\"\" para: an array of Meixner parameters; \n",
    "        since we use min to achieve max, we need to multipy -1 to obj\n",
    "    \"\"\"\n",
    "    MXN = Meixner(para)\n",
    "    PDFvector = np.array([MXN.pdf(x) for x in np.array(LR)])\n",
    "    return -1*sum(np.log(PDFvector))\n"
   ]
  },
  {
   "cell_type": "code",
   "execution_count": 4,
   "metadata": {},
   "outputs": [],
   "source": [
    "def MLE():\n",
    "    \"\"\"\n",
    "    Maximizing the OBJ and find the best estimation of parameters in Meixner\n",
    "    \"\"\"\n",
    "    # the value of the OBJ can get really large, so choose the para from moment estimator as the initial\n",
    "    # value, or the arbitray choosing may lead run time error when optimal\n",
    "    initial = np.array([ 0.01294108, 0.49220911,  1.03397087, -0.00280419])\n",
    "    b1 = np.array([(0.0001,None),(-np.pi, np.pi),(0.0001,None),(None,None)])\n",
    "    return minimize(OBJ,initial,method ='L-BFGS-B',bounds=b1) \n",
    "\n",
    "def para_plot():\n",
    "    \"\"\" this is the figure of data pdf, Meixner pdf of two kinds of parameters from two method\n",
    "    \"\"\"\n",
    "    sns.set_style('darkgrid')\n",
    "    sns.set_context('paper')\n",
    "    sns.distplot(LR,hist = True,label = 'Real Data', axlabel = 'daily returns')\n",
    "\n",
    "# the moment estimator parameters:\n",
    "    MEpara = MomentEstimator()\n",
    "    sample1 = Meixner(MEpara)\n",
    "    print('Moment Estimator parameters(a,b,d,m):\\n', MEpara)\n",
    "\n",
    "# the most likelihood estimator parameters:\n",
    "    MLEpara = MLE().x\n",
    "    sample2 = MXN_EMM(MLEpara)\n",
    "    print('Most Likelihood Estimator parameters(a,b,d,m):\\n', MLEpara)\n",
    "    \n",
    "    def PdfPlot():\n",
    "        x = np.linspace(-0.05,0.05,10000)\n",
    "        plt.plot(x,sample1.pdf(x))\n",
    "        plt.plot(x,sample2.pdf(x))\n",
    "        plt.plot(x,sample2.pdf_EMM(x))\n",
    "        plt.legend(['Moment Estimator','Most Likelihood Estimator','MLE_EMM'])\n",
    "    PdfPlot()\n",
    "    \n",
    "    return sample2"
   ]
  },
  {
   "cell_type": "code",
   "execution_count": 5,
   "metadata": {},
   "outputs": [],
   "source": [
    "class MXN_EMM(Meixner):\n",
    "    def __init__(self,parameters,r=0.024):\n",
    "        Meixner.__init__(self,parameters)\n",
    "        self.r = r\n",
    "        self.m_rn = self.r-2*self.d*np.log(np.cos(self.b/2)/np.cos((self.a+self.b)/2))\n",
    "\n",
    "    def pdf_EMM(self,x):\n",
    "        z = (x-self.m_rn)/self.a\n",
    "        density = (2*np.cos(self.b/2))**(2*self.d)/(2*self.a*np.pi*gamma(2*self.d))*np.exp(self.b*z)*abs(gamma(self.d+z*1j))**2\n",
    "        return density\n",
    "    \n",
    "\n",
    "class EurPricing(MXN_EMM):\n",
    "    \"\"\"\n",
    "    European Option Pricing class\n",
    "    \"\"\"\n",
    "    def __init__(self,parameters,T=3/252,S0=293.41,alpha=7,N=512,deltak=0.005):\n",
    "        \"\"\" Aprial 26,\n",
    "        \"\"\"\n",
    "        MXN_EMM.__init__(self,parameters,r=0.024)\n",
    "        self.T = T\n",
    "        self.S0 = S0\n",
    "        self.alpha = alpha\n",
    "        self.N = N\n",
    "        self.deltak = deltak\n",
    "    \n",
    "    def ChFun(self,u):\n",
    "        \"\"\" the characteristic function of Meixner distribution\n",
    "        \"\"\"\n",
    "        result = (np.cos(self.b/2)/np.cosh(0.5*(self.a*u-self.b*1j)))**(2*self.d*self.T)*np.exp(self.m_rn*self.T*u*1j)\n",
    "        return result\n",
    "        \n",
    "    def CFprice(self,niu):\n",
    "        \"\"\" this is pusai, the character function/ Fourier Transform of price tide_CT(k)\n",
    "        \"\"\"\n",
    "        pusai = np.exp(-self.r*self.T)/((self.alpha+niu*1j)*(self.alpha+1+niu*1j))*self.ChFun(niu-(self.alpha+1)*1j)*np.exp(1j*(niu-(self.alpha+1)*1j)*np.log(self.S0))\n",
    "        return pusai\n",
    "    \n",
    "    def xVector(self):\n",
    "        deltaniu = 2*np.pi/(self.N*self.deltak)\n",
    "        niu = np.array([i*deltaniu for i in range(self.N)])\n",
    "        w = np.array([deltaniu/2 if i == 0 else deltaniu for i in range(self.N)])\n",
    "        beta = np.log(self.S0) - self.deltak*self.N/2\n",
    "        x = np.exp(-1j*niu*beta)*self.CFprice(niu)*w\n",
    "        return np.fft.fft(x)\n",
    "    \n",
    "    def Price(self):\n",
    "        beta = np.log(self.S0) - self.deltak*self.N/2\n",
    "        # k is logStrike sequence\n",
    "        k = np.array([beta + i*self.deltak for i in range(self.N)])\n",
    "        price = np.exp(-self.alpha*k)*self.xVector().real/np.pi       \n",
    "        return price, np.exp(k)"
   ]
  },
  {
   "cell_type": "code",
   "execution_count": 6,
   "metadata": {},
   "outputs": [
    {
     "name": "stdout",
     "output_type": "stream",
     "text": [
      "The MLE estimation of Meixner paras:\n",
      "      fun: array([-8386.02358987])\n",
      " hess_inv: <4x4 LbfgsInvHessProduct with dtype=float64>\n",
      "      jac: array([0.00873115, 0.00200089, 0.00491127, 0.95551513])\n",
      "  message: b'CONVERGENCE: REL_REDUCTION_OF_F_<=_FACTR*EPSMCH'\n",
      "     nfev: 315\n",
      "      nit: 47\n",
      "   status: 0\n",
      "  success: True\n",
      "        x: array([ 0.03128697, -0.22078348,  0.1886354 ,  0.0012112 ])\n"
     ]
    }
   ],
   "source": [
    "if __name__ == '__main__':\n",
    "    print('The MLE estimation of Meixner paras:')\n",
    "    print(MLE())"
   ]
  },
  {
   "cell_type": "code",
   "execution_count": 7,
   "metadata": {},
   "outputs": [
    {
     "name": "stdout",
     "output_type": "stream",
     "text": [
      "The Moment estimation of Meixner paras:\n",
      "[ 0.01294108  0.49220911  1.03397087 -0.00280419]\n"
     ]
    }
   ],
   "source": [
    "    print('The Moment estimation of Meixner paras:')\n",
    "    print(MomentEstimator())"
   ]
  },
  {
   "cell_type": "code",
   "execution_count": 9,
   "metadata": {},
   "outputs": [
    {
     "name": "stdout",
     "output_type": "stream",
     "text": [
      "Passing parameters to Meixner model...\n",
      "information about contructed Meixner distribution:\n",
      "mean:  0.0005569930879317673\n",
      "var:  9.345974678353535e-05\n",
      "skew:  0.040808663179688974\n",
      "kurt:  8.429968603250666\n"
     ]
    }
   ],
   "source": [
    "    print(\"Passing parameters to Meixner model...\")\n",
    "    sample=EurPricing(np.array([0.03128716,-0.22078567,0.18863356,0.00121117]))\n",
    "    \n",
    "    print(\"information about contructed Meixner distribution:\")\n",
    "    print('mean: ',sample.mean())\n",
    "    print('var: ',sample.var())\n",
    "    print('skew: ',sample.skew())\n",
    "    print('kurt: ',sample.kurt())"
   ]
  },
  {
   "cell_type": "code",
   "execution_count": 10,
   "metadata": {},
   "outputs": [
    {
     "name": "stderr",
     "output_type": "stream",
     "text": [
      "/home/niyu/anaconda3/lib/python3.6/site-packages/matplotlib/axes/_axes.py:6521: MatplotlibDeprecationWarning: \n",
      "The 'normed' kwarg was deprecated in Matplotlib 2.1 and will be removed in 3.1. Use 'density' instead.\n",
      "  alternative=\"'density'\", removal=\"3.1\")\n"
     ]
    },
    {
     "name": "stdout",
     "output_type": "stream",
     "text": [
      "Moment Estimator parameters(a,b,d,m):\n",
      " [ 0.01294108  0.49220911  1.03397087 -0.00280419]\n",
      "Most Likelihood Estimator parameters(a,b,d,m):\n",
      " [ 0.03128697 -0.22078348  0.1886354   0.0012112 ]\n"
     ]
    },
    {
     "data": {
      "image/png": "[encoded data removed]",
      "text/plain": [
       "<Figure size 432x288 with 1 Axes>"
      ]
     },
     "metadata": {},
     "output_type": "display_data"
    }
   ],
   "source": [
    "    sample=para_plot()"
   ]
  },
  {
   "cell_type": "code",
   "execution_count": null,
   "metadata": {},
   "outputs": [],
   "source": []
  }
 ],
 "metadata": {
  "kernelspec": {
   "display_name": "Python 3",
   "language": "python",
   "name": "python3"
  },
  "language_info": {
   "codemirror_mode": {
    "name": "ipython",
    "version": 3
   },
   "file_extension": ".py",
   "mimetype": "text/x-python",
   "name": "python",
   "nbconvert_exporter": "python",
   "pygments_lexer": "ipython3",
   "version": "3.6.8"
  }
 },
 "nbformat": 4,
 "nbformat_minor": 2
}
